{
 "cells": [
  {
   "cell_type": "markdown",
   "metadata": {},
   "source": [
    "Финальный Проект\n",
    "---"
   ]
  },
  {
   "cell_type": "markdown",
   "metadata": {},
   "source": [
    "Пожалуйста, создайте пакет **education**, который содержит следующие модули:\n",
    "\n",
    "1. users\n",
    "2. organizations\n",
    "\n",
    "Когда вы запускаете пакет напрямую, он должен показывать все модули, указанные в пакете."
   ]
  },
  {
   "cell_type": "markdown",
   "metadata": {},
   "source": [
    "## Описание модулей приведено ниже:"
   ]
  },
  {
   "cell_type": "markdown",
   "metadata": {},
   "source": [
    "### Модуль **users** должен содержать классы **Human, Student(Human), Teacher(Human)**.\n",
    "\n",
    "1. Класс **Human** должен содержать следующую информацию: имя, фамилию, возраст, пол, национальность, а также способы задания этой информации.\n",
    " \n",
    ">``` \n",
    "> h1 = Human(name=\"John\", familyname=\"Wick\", age=35, gender=\"male\", nationality=\"USA\")\n",
    "> ``` \n",
    "\n",
    "Список методов:\n",
    "> ```\n",
    "set_name()\n",
    "set_family()\n",
    "set_age()\n",
    "set_gender()\n",
    "set_nationality()\n",
    "get_info() # возвращает словарь с личной информацией об объекте\n",
    "> ```\n",
    "\n",
    "2. Класс **Student** - это детский класс класса Human. Он должен содержать следующую информацию о каждом студенте: имя, фамилия, возраст, пол, национальность, название школы или университета, список предметов и соответствующие методы для установки этой информации.\n",
    "\n",
    "\n",
    "Список методов в дополнение к списку методов из родительского класса Human:\n",
    "> ```\n",
    "set_school()\n",
    "add_subject() # добавить предмет в список предметов\n",
    "> ```\n",
    "\n",
    "\n",
    "3. Класс **Teacher** - это детский класс класса Human. Он должен содержать следующую информацию о каждом преподавателе: имя, фамилия, возраст, пол, национальность, название школы или университета, предмет преподавания и соответствующие методы для установки этой информации.\n",
    "\n",
    "Список методов в дополнение к списку методов из родительского класса Human:\n",
    "> ```\n",
    "set_school()\n",
    "add_subject() # добавить предмет преподаваемый учителем\n",
    "> ```\n",
    "\n",
    "* При непосредственном запуске модуля **users** напрямую должен отображаться список классов, а также списки методов соответствующих классов, приведенных в модуле.\n",
    "\n",
    "* Когда вы импортируете модуль, он должен показать, что модуль был успешно импортирован.\n",
    "\n",
    "---"
   ]
  },
  {
   "cell_type": "markdown",
   "metadata": {},
   "source": [
    "### Модуль **organizations** должен содержать класс **School**.\n",
    "\n",
    "Класс **School** должен содержать следующую информацию: название или номер школы, адрес школы, номер телефона школы, электронный адрес учебного заведения, количество учеников, количество учителей, а также способы задания этой информации.\n",
    " \n",
    " \n",
    ">``` \n",
    "> s1 = School(name=\"NIS\", address=\"Astana, Kazakhstan\", phone=\"999999\", num_stud=1000, num_teachers=50)\n",
    "> ``` \n",
    "\n",
    "Список методов:\n",
    "> ```\n",
    "set_name()\n",
    "set_address()\n",
    "set_phone()\n",
    "set_email()\n",
    "set_num_stud()\n",
    "set_num_teachers()\n",
    "add_student()\n",
    "add_teacher()\n",
    "get_info() # возвращает словарь с информацией про школу без личной информации студентов / преподавателей\n",
    "get_report() # создает отчет (файл \"csv\") с информацией о школе и о каждом ученике, а также о преподавателе в этой школе. \n",
    "> ```\n",
    "\n",
    "**Пожалуйста, сделайте правильный формат файла CSV (который вы считаете наиболее понятным)**\n",
    "\n",
    "* При непосредственном запуске модуля **organizations** напрямую должен отображаться список классов, а также списки методов соответствующих классов, приведенных в модуле.\n",
    "\n",
    "* Когда вы импортируете модуль, он должен показать, что модуль был успешно импортирован.\n",
    "\n",
    "---"
   ]
  },
  {
   "cell_type": "markdown",
   "metadata": {},
   "source": [
    "### Что делать в jupyter notebook?\n",
    "\n",
    "В этом jupyter notebook, пожалуйста, проверьте все функциональные возможности вашего пакета. Как минимум создайте 2-3 школы, в каждой школе должно быть не менее 10 учеников (с разной информацией), а также как минимум 2 учителя разных предметов и личной информации. **Личная информация этих учеников, учителей и школ не должна быть правдивой (просто выдумайте).**\n",
    "\n",
    "**Пожалуйста, заархивируйте пакет и данный jupyter notebook вместе и отправьте архивный файл.**"
   ]
  },
  {
   "cell_type": "code",
   "execution_count": 1,
   "metadata": {},
   "outputs": [],
   "source": [
    "# Ваш код:\n",
    "from users import Student,Teacher\n",
    "from organization import* "
   ]
  },
  {
   "cell_type": "code",
   "execution_count": 3,
   "metadata": {},
   "outputs": [],
   "source": [
    "school=School(name=\"Brad\", address=\"NY city\", phone=+9258305647, email= 'kazminerals.com', num_stud=0, num_teachers=0)\n",
    "teacher=Teacher(name=\"Anel\", familyname=\"Turganbaeva\", age=21, gender=\"female\", nationality=\"Kazakh\",school='NISH',subject=['1','2'])\n",
    "student=Student(name=\"Azamat\", familyname=\"Bazarbai\", age=17, gender=\"male\", nationality=\"Kazakh\", school=5, subject=[\"bio\",\"math\"] )\n",
    "teacher1= Teacher(name=\"Asel\", familyname=\"Saparova\", age=25, gender=\"female\", nationality=\"Kazakh\", subject=None)\n",
    "school.add_teacher(teacher.get_info())\n",
    "school.add_teacher(teacher1.get_info())\n",
    "school.set_student(student.get_info())\n",
    "school.get_report()"
   ]
  },
  {
   "cell_type": "code",
   "execution_count": null,
   "metadata": {},
   "outputs": [],
   "source": []
  }
 ],
 "metadata": {
  "kernelspec": {
   "display_name": "Python 3",
   "language": "python",
   "name": "python3"
  },
  "language_info": {
   "codemirror_mode": {
    "name": "ipython",
    "version": 3
   },
   "file_extension": ".py",
   "mimetype": "text/x-python",
   "name": "python",
   "nbconvert_exporter": "python",
   "pygments_lexer": "ipython3",
   "version": "3.8.8"
  }
 },
 "nbformat": 4,
 "nbformat_minor": 2
}
